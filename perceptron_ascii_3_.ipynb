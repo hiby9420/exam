{
  "nbformat": 4,
  "nbformat_minor": 0,
  "metadata": {
    "colab": {
      "provenance": []
    },
    "kernelspec": {
      "name": "python3",
      "display_name": "Python 3"
    },
    "language_info": {
      "name": "python"
    }
  },
  "cells": [
    {
      "cell_type": "code",
      "execution_count": 1,
      "metadata": {
        "colab": {
          "base_uri": "https://localhost:8080/"
        },
        "id": "WzrR0WqGrOpa",
        "outputId": "b1a8aa73-e506-43f6-c8b5-45782135eb79"
      },
      "outputs": [
        {
          "output_type": "stream",
          "name": "stdout",
          "text": [
            "0011111000 is even.\n",
            "0010100111 is odd.\n",
            "0100101110 is even.\n",
            "0111110110 is odd.\n"
          ]
        }
      ],
      "source": [
        "import numpy as np\n",
        "\n",
        "# Training data\n",
        "training_inputs = np.array([\n",
        "    [0, 0, 1, 1, 1, 1, 1, 0, 0, 0],  # 0\n",
        "    [0, 0, 0, 0, 0, 1, 0, 0, 0, 0],  # 1\n",
        "    [0, 1, 1, 0, 1, 1, 1, 1, 1, 0],  # 2\n",
        "    [0, 1, 1, 1, 1, 1, 1, 1, 1, 0],  # 3\n",
        "    [0, 0, 1, 1, 0, 1, 0, 0, 1, 1],  # 4\n",
        "    [0, 1, 0, 1, 1, 1, 1, 1, 1, 0],  # 5\n",
        "    [0, 1, 0, 1, 1, 1, 1, 0, 1, 1],  # 6\n",
        "    [0, 1, 1, 1, 0, 0, 0, 0, 0, 0],  # 7\n",
        "    [0, 1, 1, 1, 1, 1, 1, 1, 1, 1],  # 8\n",
        "    [0, 1, 1, 1, 1, 1, 1, 0, 1, 1]   # 9\n",
        "])\n",
        "\n",
        "training_labels = np.array([\n",
        "    [1],  # Even\n",
        "    [0],  # Odd\n",
        "    [0],  # Odd\n",
        "    [1],  # Even\n",
        "    [0],  # Odd\n",
        "    [0],  # Odd\n",
        "    [0],  # Odd\n",
        "    [1],  # Even\n",
        "    [0],  # Odd\n",
        "    [0]   # Odd\n",
        "])\n",
        "\n",
        "# Perceptron Neural Network class\n",
        "class Perceptron:\n",
        "    def __init__(self, num_inputs):\n",
        "        self.weights = np.zeros((num_inputs, 1))\n",
        "        self.bias = 0\n",
        "\n",
        "    def train(self, inputs, labels, num_epochs, learning_rate):\n",
        "        for epoch in range(num_epochs):\n",
        "            for input_data, label in zip(inputs, labels):\n",
        "                prediction = self.predict(input_data)\n",
        "                error = label - prediction\n",
        "\n",
        "                self.weights += learning_rate * error * input_data.reshape(-1, 1)\n",
        "                self.bias += learning_rate * error\n",
        "\n",
        "    def predict(self, inputs):\n",
        "        summation = np.dot(inputs, self.weights) + self.bias\n",
        "        return 1 if summation >= 0 else 0\n",
        "\n",
        "# Training the perceptron\n",
        "perceptron = Perceptron(num_inputs=10)\n",
        "perceptron.train(training_inputs, training_labels, num_epochs=100, learning_rate=0.1)\n",
        "\n",
        "# Testing the perceptron\n",
        "test_inputs = np.array([\n",
        "    [0, 0, 1, 1, 1, 1, 1, 0, 0, 0],  # 0 (Even)\n",
        "    [0, 0, 1, 0, 1, 0, 0, 1, 1, 1],  # 9 (Odd)\n",
        "    [0, 1, 0, 0, 1, 0, 1, 1, 1, 0],  # 6 (Odd)\n",
        "    [0, 1, 1, 1, 1, 1, 0, 1, 1, 0]   # 8 (Even)\n",
        "])\n",
        "\n",
        "for input_data in test_inputs:\n",
        "    prediction = perceptron.predict(input_data)\n",
        "    number = ''.join(map(str, input_data.tolist()))\n",
        "\n",
        "    if prediction == 1:\n",
        "        print(f\"{number} is even.\")\n",
        "    else:\n",
        "        print(f\"{number} is odd.\")"
      ]
    },
    {
      "cell_type": "code",
      "source": [
        "import numpy as np\n",
        "\n",
        "j = int(input(\"Enter a Number (0-9): \"))\n",
        "step_function = lambda x: 1 if x >= 0 else 0\n",
        "\n",
        "training_data = [\n",
        "    {'input': [1, 1, 0, 0, 0, 0], 'label': 1},\n",
        "    {'input': [1, 1, 0, 0, 0, 1], 'label': 0},\n",
        "    {'input': [1, 1, 0, 0, 1, 0], 'label': 1},\n",
        "    {'input': [1, 1, 0, 1, 1, 1], 'label': 0},\n",
        "    {'input': [1, 1, 0, 1, 0, 0], 'label': 1},\n",
        "    {'input': [1, 1, 0, 1, 0, 1], 'label': 0},\n",
        "    {'input': [1, 1, 0, 1, 1, 0], 'label': 1},\n",
        "    {'input': [1, 1, 0, 1, 1, 1], 'label': 0},\n",
        "    {'input': [1, 1, 1, 0, 0, 0], 'label': 1},\n",
        "    {'input': [1, 1, 1, 0, 0, 1], 'label': 0},\n",
        "]\n",
        "\n",
        "weights = np.array([0, 0, 0, 0, 0, 1])\n",
        "\n",
        "for data in training_data:\n",
        "    input = np.array(data['input'])\n",
        "    label = data['label']\n",
        "    output = step_function(np.dot(input, weights))\n",
        "    error = label - output\n",
        "    weights += input * error\n",
        "\n",
        "input = np.array([int(x) for x in list('{0:06b}'.format(j))])\n",
        "output = \"odd\" if step_function(np.dot(input, weights)) == 0 else \"even\"\n",
        "print(j, \" is \", output)"
      ],
      "metadata": {
        "colab": {
          "base_uri": "https://localhost:8080/"
        },
        "id": "RMf7EB3irYOf",
        "outputId": "a1af0ae7-04b0-493f-e0d0-77dd96180f83"
      },
      "execution_count": 2,
      "outputs": [
        {
          "output_type": "stream",
          "name": "stdout",
          "text": [
            "Enter a Number (0-9): 4\n",
            "4  is  even\n"
          ]
        }
      ]
    }
  ]
}