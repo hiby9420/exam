{
  "nbformat": 4,
  "nbformat_minor": 0,
  "metadata": {
    "colab": {
      "provenance": []
    },
    "kernelspec": {
      "name": "python3",
      "display_name": "Python 3"
    },
    "language_info": {
      "name": "python"
    }
  },
  "cells": [
    {
      "cell_type": "code",
      "execution_count": null,
      "metadata": {
        "id": "Ow8JfXVciBdu"
      },
      "outputs": [],
      "source": [
        "#Hebbian Rule\n",
        "\n",
        "import numpy as np\n",
        "class HopfieldNetwork:\n",
        "    def __init__(self, n_neurons):\n",
        "        self.weights = np.zeros((n_neurons, n_neurons))\n",
        "#this train method trains the Hopfield network by updating its weights based on the input patterns provided.\n",
        "#The method iterates over each pattern, computes the outer product of the pattern with itself, and updates the weights matrix accordingly.\n",
        "#It also sets the diagonal elements of the weights matrix to zero to maintain stability in the network.\n",
        "    def train(self, patterns):\n",
        "        for pattern in patterns:\n",
        "            self.weights += np.outer(pattern, pattern)\n",
        "            np.fill_diagonal(self.weights, 0)\n",
        "#this predict method computes the energy of the input pattern in the Hopfield network\n",
        "#and adjusts the neuron activations based on the energy state to recall the pattern.\n",
        "# It returns the predicted pattern as a vector of binary values (1 or -1).\n",
        "    def predict(self, pattern):\n",
        "        energy = -0.5 * ((pattern @ self.weights) @ pattern)\n",
        "        return np.sign((pattern @ self.weights) + energy)\n",
        "\n",
        "patterns = np.array([\n",
        "                [1, 1, -1, -1],\n",
        "                [-1, -1, 1, 1],\n",
        "                [1, -1, 1, -1],\n",
        "                [-1, 1, -1, 1]\n",
        "                ])"
      ]
    },
    {
      "cell_type": "code",
      "source": [
        "\n",
        "n_neurons = 4\n",
        "\n",
        "network = HopfieldNetwork(n_neurons)\n",
        "\n",
        "network.train(patterns)\n",
        "\n",
        "for pattern in patterns:\n",
        "    prediction = network.predict(pattern)\n",
        "    print('Input pattern:', pattern)\n",
        "    print('Predicted pattern:', prediction)"
      ],
      "metadata": {
        "colab": {
          "base_uri": "https://localhost:8080/"
        },
        "id": "g2_PH3RKiMap",
        "outputId": "71d0ddea-619d-452e-ae26-e59d7d13e2d0"
      },
      "execution_count": null,
      "outputs": [
        {
          "output_type": "stream",
          "name": "stdout",
          "text": [
            "Input pattern: [ 1  1 -1 -1]\n",
            "Predicted pattern: [-1. -1. -1. -1.]\n",
            "Input pattern: [-1 -1  1  1]\n",
            "Predicted pattern: [-1. -1. -1. -1.]\n",
            "Input pattern: [ 1 -1  1 -1]\n",
            "Predicted pattern: [-1. -1. -1. -1.]\n",
            "Input pattern: [-1  1 -1  1]\n",
            "Predicted pattern: [-1. -1. -1. -1.]\n"
          ]
        }
      ]
    }
  ]
}