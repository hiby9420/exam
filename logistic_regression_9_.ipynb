{
  "nbformat": 4,
  "nbformat_minor": 0,
  "metadata": {
    "colab": {
      "provenance": []
    },
    "kernelspec": {
      "name": "python3",
      "display_name": "Python 3"
    },
    "language_info": {
      "name": "python"
    }
  },
  "cells": [
    {
      "cell_type": "code",
      "execution_count": 1,
      "metadata": {
        "id": "l_MSHpK7iks_"
      },
      "outputs": [],
      "source": [
        "\n",
        "import tensorflow as tf\n",
        "import numpy as np\n",
        "\n",
        "from keras.models import Sequential\n",
        "from keras.layers import Dense, Flatten\n",
        "from sklearn.model_selection import train_test_split\n",
        "from sklearn.preprocessing import StandardScaler\n",
        "from sklearn.datasets import load_breast_cancer\n"
      ]
    },
    {
      "cell_type": "code",
      "source": [
        "\n",
        "df=load_breast_cancer()\n",
        "# two classifications -- malignant / benign\n",
        "\n",
        "X_train,X_test,y_train,y_test=train_test_split(df.data,df.target,test_size=0.20,random_state=42)\n",
        "\n",
        "sc=StandardScaler()\n",
        "X_train=sc.fit_transform(X_train)\n",
        "X_test=sc.transform(X_test)\n",
        "\n",
        "model=Sequential([\n",
        "    Flatten(input_shape=(X_train.shape[1],)),\n",
        "    Dense(1,activation='sigmoid')\n",
        "    ])\n",
        "\n",
        "model.compile(optimizer='adam',loss='binary_crossentropy',metrics=['accuracy'])\n",
        "\n",
        "model.fit(X_train,y_train,epochs=5)\n",
        "\n",
        "test_loss,test_accuracy = model.evaluate(X_test,y_test)"
      ],
      "metadata": {
        "colab": {
          "base_uri": "https://localhost:8080/"
        },
        "id": "UOCrWJ7JjTHw",
        "outputId": "7af61bc7-b562-4b00-e14f-025a97ae43fd"
      },
      "execution_count": 2,
      "outputs": [
        {
          "output_type": "stream",
          "name": "stdout",
          "text": [
            "Epoch 1/5\n",
            "15/15 [==============================] - 3s 17ms/step - loss: 0.5045 - accuracy: 0.7670\n",
            "Epoch 2/5\n",
            "15/15 [==============================] - 0s 9ms/step - loss: 0.4530 - accuracy: 0.8022\n",
            "Epoch 3/5\n",
            "15/15 [==============================] - 0s 6ms/step - loss: 0.4106 - accuracy: 0.8374\n",
            "Epoch 4/5\n",
            "15/15 [==============================] - 0s 10ms/step - loss: 0.3759 - accuracy: 0.8527\n",
            "Epoch 5/5\n",
            "15/15 [==============================] - 0s 12ms/step - loss: 0.3467 - accuracy: 0.8747\n",
            "4/4 [==============================] - 0s 8ms/step - loss: 0.3301 - accuracy: 0.8860\n"
          ]
        }
      ]
    },
    {
      "cell_type": "code",
      "source": [
        "print(\"Test Loss: \",test_loss)\n",
        "print(\"accuracy is\",test_accuracy)"
      ],
      "metadata": {
        "colab": {
          "base_uri": "https://localhost:8080/"
        },
        "id": "R7vyZjZ0jYQP",
        "outputId": "49b4daec-5c99-40f1-fb3b-423a875385c2"
      },
      "execution_count": 3,
      "outputs": [
        {
          "output_type": "stream",
          "name": "stdout",
          "text": [
            "Test Loss:  0.33011308312416077\n",
            "accuracy is 0.8859649300575256\n"
          ]
        }
      ]
    }
  ]
}