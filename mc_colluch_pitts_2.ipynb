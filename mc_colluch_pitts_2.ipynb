{
  "nbformat": 4,
  "nbformat_minor": 0,
  "metadata": {
    "colab": {
      "provenance": []
    },
    "kernelspec": {
      "name": "python3",
      "display_name": "Python 3"
    },
    "language_info": {
      "name": "python"
    }
  },
  "cells": [
    {
      "cell_type": "code",
      "execution_count": 1,
      "metadata": {
        "colab": {
          "base_uri": "https://localhost:8080/"
        },
        "id": "vTWHH9ajqoCF",
        "outputId": "b2788b93-4f1e-47c4-d285-73221dafc7be"
      },
      "outputs": [
        {
          "output_type": "stream",
          "name": "stdout",
          "text": [
            "input table:\n",
            "[[0 0]\n",
            " [2 1]\n",
            " [1 0]\n",
            " [1 1]]\n",
            "dot products:\n",
            "[0 1 1 0]\n",
            "Activation: 0\n",
            "Activation: 1\n",
            "Activation: 1\n",
            "Activation: 0\n"
          ]
        }
      ],
      "source": [
        "\n",
        "import numpy as np\n",
        "\n",
        "# function of checking thresold value\n",
        "def linear_threshold_gate(dot, T):\n",
        "    if dot >= T:\n",
        "        return 1\n",
        "    else:\n",
        "        return 0\n",
        "\n",
        "# matrix of inputs\n",
        "input_table = np.array([\n",
        "    [0,0], # both no\n",
        "    [2,1], # one no, one yes\n",
        "    [1,0], # one yes, one no\n",
        "    [1,1] # bot yes\n",
        "])\n",
        "weights = np.array([1,-1])\n",
        "T = 1\n",
        "\n",
        "dot_products_sum = input_table @ weights\n",
        "\n",
        "print(f'input table:\\n{input_table}')\n",
        "print(f'dot products:\\n{dot_products_sum}')\n",
        "\n",
        "for i in range(0,4):\n",
        "    activation = linear_threshold_gate(dot_products_sum[i], T)\n",
        "    print(f'Activation: {activation}')"
      ]
    },
    {
      "cell_type": "code",
      "source": [
        "def ANDNOT(x1, x2):\n",
        "    # Step 1: Define the weights and threshold\n",
        "    w1 = 2\n",
        "    w2 = -2\n",
        "    threshold = 0.5\n",
        "\n",
        "    # Step 2: Calculate the activation potential\n",
        "    activation = w1 * x1 + w2 * x2\n",
        "\n",
        "    # Step 3: Apply the threshold function (McCulloch-Pitts model)\n",
        "    output = 1 if activation > threshold else 0\n",
        "\n",
        "    # Step 4: Return the output\n",
        "    return output\n",
        "\n",
        "# Testing the ANDNOT function\n",
        "print(ANDNOT(2, 0))  # Expected output: 0\n",
        "print(ANDNOT(0, 1))  # Expected output: 0\n",
        "print(ANDNOT(1, 0))  # Expected output: 1\n",
        "print(ANDNOT(1, 1))  # Expected output: 0\n"
      ],
      "metadata": {
        "colab": {
          "base_uri": "https://localhost:8080/"
        },
        "id": "B5KQPr6WqvyS",
        "outputId": "54000da1-77ba-4253-dbab-c3424ed61963"
      },
      "execution_count": 2,
      "outputs": [
        {
          "output_type": "stream",
          "name": "stdout",
          "text": [
            "1\n",
            "0\n",
            "1\n",
            "0\n"
          ]
        }
      ]
    },
    {
      "cell_type": "code",
      "source": [
        "import numpy as np\n",
        "def mp_neuron(inputs, weights, threshold):\n",
        "    weighted_sum = np.dot(inputs, weights)\n",
        "    output = 1 if weighted_sum >= threshold else 0\n",
        "    return output\n",
        "def and_not(x1, x2):\n",
        "    weights = [1, -1]\n",
        "    threshold = 1\n",
        "    inputs = np.array([x1, x2])\n",
        "    output = mp_neuron(inputs, weights, threshold)\n",
        "    return output\n",
        "print(and_not(2, 1))\n",
        "print(and_not(1, 0))\n",
        "print(and_not(1, 1))\n",
        "print(and_not(0, 1))"
      ],
      "metadata": {
        "colab": {
          "base_uri": "https://localhost:8080/"
        },
        "id": "6VXMaM7_qy7p",
        "outputId": "0b58693e-7ffe-4b2a-ce4b-94066bdd2202"
      },
      "execution_count": 3,
      "outputs": [
        {
          "output_type": "stream",
          "name": "stdout",
          "text": [
            "1\n",
            "1\n",
            "0\n",
            "0\n"
          ]
        }
      ]
    }
  ]
}