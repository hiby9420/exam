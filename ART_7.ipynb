{
  "nbformat": 4,
  "nbformat_minor": 0,
  "metadata": {
    "colab": {
      "provenance": []
    },
    "kernelspec": {
      "name": "python3",
      "display_name": "Python 3"
    },
    "language_info": {
      "name": "python"
    }
  },
  "cells": [
    {
      "cell_type": "code",
      "execution_count": 1,
      "metadata": {
        "id": "t4o4u3BtgIhK"
      },
      "outputs": [],
      "source": [
        "import numpy as np\n",
        "\n",
        "class ARTNetwork:\n",
        "    def __init__(self, input_size, vigilance):\n",
        "        self.input_size = input_size\n",
        "        self.vigilance = vigilance\n",
        "        self.weights = np.zeros((input_size,1))\n",
        "\n",
        "    def train(self, input_data,epochs):\n",
        "        normalized_input = input_data / np.linalg.norm(input_data)\n",
        "        for _ in range(epochs):\n",
        "            similarity = normalized_input @ self.weights\n",
        "            if similarity.any() >= self.vigilance:\n",
        "                return\n",
        "            self.weights = np.maximum(self.weights, normalized_input)\n",
        "            normalized_input = self.weights / np.linalg.norm(self.weights)\n",
        "\n",
        "    def predict(self, input_data):\n",
        "        normalized_input = input_data / np.linalg.norm(input_data)\n",
        "        similarity = normalized_input @ self.weights\n",
        "        if similarity.any() >= self.vigilance:\n",
        "            output_pattern = np.zeros(len(similarity))\n",
        "            print(similarity)\n",
        "            winner = np.argmax(similarity)\n",
        "            output_pattern[winner] = 1\n",
        "        else:\n",
        "            output_pattern = np.zeros(len(similarity) + 1)\n",
        "            output_pattern[-1] = 1\n",
        "        return output_pattern"
      ]
    },
    {
      "cell_type": "code",
      "source": [
        "# Usage example\n",
        "input_size = 4\n",
        "vigilance = 0.9\n",
        "art = ARTNetwork(input_size, vigilance)\n"
      ],
      "metadata": {
        "id": "i28MISGpgyfl"
      },
      "execution_count": 2,
      "outputs": []
    },
    {
      "cell_type": "code",
      "source": [
        "# Training data\n",
        "data = np.array([[1, 1, 0, 0],\n",
        "                 [0, 1, 0, 1],\n",
        "                 [0, 0, 1, 1],\n",
        "                 [1, 0, 1, 0]])\n",
        "\n",
        "# Train the ART network\n",
        "for sample in data:\n",
        "    art.train(sample,1000)\n",
        "\n",
        "# Test a new input\n",
        "new_input = np.array([0, -1, 0, 0])\n",
        "new_output = art.predict(new_input)\n",
        "print(new_output)"
      ],
      "metadata": {
        "colab": {
          "base_uri": "https://localhost:8080/"
        },
        "id": "hbGnuQesg3LN",
        "outputId": "15d882d5-d534-4ae1-eb56-682f3ace3d7c"
      },
      "execution_count": 3,
      "outputs": [
        {
          "output_type": "stream",
          "name": "stdout",
          "text": [
            "[-0.70710678 -0.70710678  0.          0.        ]\n",
            "[0. 0. 1. 0.]\n"
          ]
        }
      ]
    }
  ]
}