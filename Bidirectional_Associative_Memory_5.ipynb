{
  "nbformat": 4,
  "nbformat_minor": 0,
  "metadata": {
    "colab": {
      "provenance": []
    },
    "kernelspec": {
      "name": "python3",
      "display_name": "Python 3"
    },
    "language_info": {
      "name": "python"
    }
  },
  "cells": [
    {
      "cell_type": "code",
      "execution_count": 1,
      "metadata": {
        "id": "mK7zjCtmP0X7"
      },
      "outputs": [],
      "source": [
        "import numpy as np\n"
      ]
    },
    {
      "cell_type": "code",
      "source": [
        "# define two pairs of vectors\n",
        "x1 = np.array([1, 1, 1, -1])\n",
        "y1 = np.array([1, -1])\n",
        "x2 = np.array([-1, -1, 1, 1])\n",
        "y2 = np.array([-1, 1])"
      ],
      "metadata": {
        "id": "891z4mGPQBsi"
      },
      "execution_count": 2,
      "outputs": []
    },
    {
      "cell_type": "code",
      "source": [
        "# compute weight matrix W\n",
        "W = np.outer(y1, x1) + np.outer(y2, x2)"
      ],
      "metadata": {
        "id": "T5ivtZE3QFXr"
      },
      "execution_count": 3,
      "outputs": []
    },
    {
      "cell_type": "code",
      "source": [
        "# define BAM function\n",
        "def bam(x):\n",
        "    y = W @ x\n",
        "    return np.where(y>=0, 1, -1)"
      ],
      "metadata": {
        "id": "K6_1__IvQKc3"
      },
      "execution_count": 4,
      "outputs": []
    },
    {
      "cell_type": "code",
      "source": [
        "# test BAM with inputs\n",
        "x_test = np.array([1, -1, -1, -1])\n",
        "y_test = bam(x_test)"
      ],
      "metadata": {
        "id": "-OzkKqWXQOE1"
      },
      "execution_count": 5,
      "outputs": []
    },
    {
      "cell_type": "code",
      "source": [
        "\n",
        "\n",
        "# print output\n",
        "print(\"Input x: \", x_test)\n",
        "print(\"Output y: \", y_test)"
      ],
      "metadata": {
        "colab": {
          "base_uri": "https://localhost:8080/"
        },
        "id": "TVxwrmeNQS-Z",
        "outputId": "15437421-d480-40f4-c649-29d6d3d2ef5f"
      },
      "execution_count": 6,
      "outputs": [
        {
          "output_type": "stream",
          "name": "stdout",
          "text": [
            "Input x:  [ 1 -1 -1 -1]\n",
            "Output y:  [ 1 -1]\n"
          ]
        }
      ]
    }
  ]
}