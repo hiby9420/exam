{
  "nbformat": 4,
  "nbformat_minor": 0,
  "metadata": {
    "colab": {
      "provenance": []
    },
    "kernelspec": {
      "name": "python3",
      "display_name": "Python 3"
    },
    "language_info": {
      "name": "python"
    }
  },
  "cells": [
    {
      "cell_type": "code",
      "execution_count": 1,
      "metadata": {
        "id": "prz8EPpBfhIh"
      },
      "outputs": [],
      "source": [
        "import numpy as np\n",
        "class NeuralNetwork:\n",
        "    def __init__(self, input_size, hidden_size, output_size):\n",
        "        self.W1 = np.random.randn(input_size, hidden_size)\n",
        "        self.b1 = np.zeros(hidden_size)\n",
        "        self.W2 = np.random.randn(hidden_size, output_size)\n",
        "        self.b2 = np.zeros(output_size)\n",
        "\n",
        "    def sigmoid(self, x):\n",
        "        return 1 / (1 + np.exp(-x))\n",
        "\n",
        "    def sigmoid_derivative(self, x):\n",
        "        return x * (1 - x)\n",
        "\n",
        "    def forward(self, X):\n",
        "        self.z1 = X @ self.W1 + self.b1\n",
        "        self.a1 = self.sigmoid(self.z1)\n",
        "        self.z2 = self.a1 @ self.W2 + self.b2\n",
        "        self.a2 = self.sigmoid(self.z2)\n",
        "        return self.a2\n",
        "\n",
        "    def backward(self, X, y, output):\n",
        "        self.output_error = y - output\n",
        "        self.output_delta = self.output_error * self.sigmoid_derivative(output)\n",
        "        self.hidden_error = self.output_delta @ self.W2.T\n",
        "        self.hidden_delta = self.hidden_error * self.sigmoid_derivative(self.a1)\n",
        "        self.W1 += X.T @ self.hidden_delta\n",
        "        self.b1 += np.sum(self.hidden_delta, axis=0)\n",
        "        self.W2 += self.a1.T @ self.output_delta\n",
        "        self.b2 += np.sum(self.output_delta, axis=0)\n",
        "\n",
        "    def train(self, X, y, epochs):\n",
        "        for i in range(epochs):\n",
        "            output = self.forward(X)\n",
        "            self.backward(X, y, output)\n",
        "\n",
        "    def predict(self, X):\n",
        "        # Make predictions for a given set of inputs\n",
        "        return self.forward(X)"
      ]
    },
    {
      "cell_type": "code",
      "source": [
        "# Define the input and output datasets\n",
        "X = np.array([[0, 0], [0, 1], [1, 0], [1, 1]])\n",
        "y = np.array([[0], [1], [1], [0]])\n",
        "\n",
        "# Create a neural network with 2 input neurons, 4 neurons in the hidden layer, and 1 output neuron\n",
        "nn = NeuralNetwork(2, 4, 1)\n",
        "\n",
        "# Train the neural network on the input and output datasets for 10000 epochs with a learning rate of 0.1\n",
        "nn.train(X, y, epochs=10000)\n",
        "\n",
        "# Use the trained neural network to make predictions on the same input dataset\n",
        "predictions = nn.predict(X)\n",
        "\n",
        "# Print the predictions\n",
        "print(predictions)\n"
      ],
      "metadata": {
        "colab": {
          "base_uri": "https://localhost:8080/"
        },
        "id": "SG31J14Kfl2q",
        "outputId": "a00d1b27-e6a6-44d1-91d0-8393ab5ecd5e"
      },
      "execution_count": 2,
      "outputs": [
        {
          "output_type": "stream",
          "name": "stdout",
          "text": [
            "[[0.00455405]\n",
            " [0.9863457 ]\n",
            " [0.98782044]\n",
            " [0.01559553]]\n"
          ]
        }
      ]
    }
  ]
}